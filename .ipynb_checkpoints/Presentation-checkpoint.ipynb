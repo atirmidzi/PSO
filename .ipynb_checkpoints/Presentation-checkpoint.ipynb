{
 "cells": [
  {
   "cell_type": "code",
   "execution_count": 1,
   "id": "f8172f67",
   "metadata": {},
   "outputs": [],
   "source": [
    "import numpy as np\n",
    "import pandas as pd\n",
    "import quantecon as qe\n",
    "from ast import literal_eval\n",
    "from sklearn.ensemble import RandomForestRegressor\n",
    "import ternary\n",
    "import random\n",
    "import plotly.figure_factory as ff\n",
    "import colorsys\n",
    "from matplotlib import pyplot as plt"
   ]
  },
  {
   "cell_type": "code",
   "execution_count": 2,
   "id": "70563f57",
   "metadata": {},
   "outputs": [],
   "source": [
    "def create_PSO(data):\n",
    "    datalog = data\n",
    "    \n",
    "    #Reading \"Elements\" columns from string to list\n",
    "    datalog['Elements'] = datalog[\"Elements\"].apply(lambda x: literal_eval(x))\n",
    "    \n",
    "    #Creating np.array of \"Position\" column and dropping the string type \"Position\" column\n",
    "    position = []\n",
    "    for i in range(len(datalog)):\n",
    "        position.append(list(np.fromstring(datalog['Position'][i][1:-1], dtype=float, sep=' ')))\n",
    "    position = np.array(position)\n",
    "    datalog = datalog.drop(columns=['Position'])\n",
    "    datalog = pd.concat([datalog, pd.DataFrame(([[i] for i in position]), columns = ['Position'])], axis = 1)\n",
    "    \n",
    "    return datalog"
   ]
  },
  {
   "cell_type": "code",
   "execution_count": 3,
   "id": "7b146079",
   "metadata": {},
   "outputs": [],
   "source": [
    "class grid:\n",
    "    def __init__(self, data, grid_len):\n",
    "        self.datalog = data\n",
    "        self.datalog = self.datalog[['ID', 'Elements', 'Generation', 'Position', 'Activity']]\n",
    "        self.grid_len = grid_len\n",
    "        self.generation = self.datalog['Generation'].max()\n",
    "        \n",
    "        #Creating \"Region\" column\n",
    "        self.determine_grid_points()\n",
    "        self.determine_region()\n",
    "        self.datalog['Region'] = self.region\n",
    "    \n",
    "        #Creating \"Visited\" column\n",
    "        self.visited = []\n",
    "        for i in range(len(self.datalog)):\n",
    "            check = self.datalog.at[i, 'Region'] == self.datalog.loc[0:(i-1)]['Region']\n",
    "            if np.count_nonzero(check) == 0:\n",
    "                self.visited.append(False)\n",
    "            else:\n",
    "                self.visited.append(True)\n",
    "        self.datalog['Visited'] = self.visited\n",
    "        \n",
    "        #Renaming index column\n",
    "        self.datalog.index.name = 'Experiment'\n",
    "        \n",
    "\n",
    "    def determine_grid_points(self):\n",
    "        simplex_grid = qe.simplex_grid(len(self.datalog['Elements'][0]), self.grid_len)/self.grid_len\n",
    "\n",
    "        #Translating Vector\n",
    "        translation = 1/(self.grid_len*len(self.datalog['Elements'][0]))\n",
    "        translating_vector = [-(len(self.datalog['Elements'][0])-1)*translation]\n",
    "        for i in range(len(self.datalog['Elements'][0])-1):\n",
    "            translating_vector.append(translation)\n",
    "        translating_vector = np.array(translating_vector)                  \n",
    "        \n",
    "        #Making grid\n",
    "        grid_points_1 = simplex_grid + translating_vector\n",
    "        grid_points_2 = simplex_grid + 2*translating_vector\n",
    "        self.grid_points = np.vstack((grid_points_1, grid_points_2))\n",
    "        self.grid_points = np.around(self.grid_points, decimals = 4)\n",
    "        self.grid_points = self.grid_points[self.grid_points[:, 0].argsort()]\n",
    "\n",
    "        #Deleting grid points outside the space\n",
    "        self.grid_points = np.delete(self.grid_points, np.where(self.grid_points<0)[0], axis = 0)\n",
    "        self.grid_points = np.delete(self.grid_points, np.where(self.grid_points>1)[0], axis = 0)\n",
    "        return\n",
    "    \n",
    "    def determine_region(self):\n",
    "        #Determining region\n",
    "        self.region = []\n",
    "        for i in range(len(self.datalog)):\n",
    "            distance = []\n",
    "            for x in range(len(self.grid_points)):\n",
    "                distance.append(np.sqrt(sum((self.datalog.at[i, 'Position']-self.grid_points[x])**2)))\n",
    "            distance = np.array(distance)\n",
    "            self.region.append(distance.argmin())\n",
    "        self.region = np.array(self.region)\n",
    "        return\n",
    "      \n",
    "    def count_occurences(self):\n",
    "        #Count Occurrences of Each Grid\n",
    "        self.grid_count = []\n",
    "        for i in range(len(self.grid_points)):\n",
    "            self.grid_count.append((self.datalog['Region'] == i).sum())\n",
    "        self.grid_count = np.array(self.grid_count)\n",
    "        return\n",
    "    \n",
    "    def create_grid_table(self):\n",
    "        self.count_occurences()\n",
    "        #Creating Exploration Table\n",
    "        self.grid_table = pd.DataFrame(([[self.datalog['Elements'][0]] for i in self.grid_points]), columns = ['Elements'])\n",
    "        self.grid_table = pd.concat([self.grid_table, pd.DataFrame(([[i] for i in self.grid_points]), columns = ['Point'])], axis = 1)\n",
    "        self.grid_table['Region'] = np.arange(len(self.grid_points))\n",
    "        self.grid_table['Count'] = self.grid_count\n",
    "        for i in range(len(self.grid_table)):\n",
    "            self.grid_table.at[i, 'First visit'] = self.datalog[self.datalog['Region'] == i].index.min()       \n",
    "        return self.grid_table\n",
    "    \n",
    "    def exploitation_value(self):\n",
    "        self.exploitation_data = []\n",
    "        for i in range(self.generation+1):\n",
    "            max_observation = self.datalog[0:(i+1)*self.datalog['ID'].max()]\n",
    "            self.exploitation_data.append(1-(len(np.unique(max_observation['Region'])))/len(max_observation))\n",
    "        self.exploitation_data = np.array(self.exploitation_data)\n",
    "        self.exploitation_data = np.around(self.exploitation_data, decimals = 3)\n",
    "        return self.exploitation_data[-1]\n",
    "    \n",
    "    def exploration_value(self):\n",
    "        self.exploration_data = []\n",
    "        for i in range(self.generation+1):\n",
    "            max_observation = self.datalog[0:(i+1)*self.datalog['ID'].max()]\n",
    "            self.exploration_data.append(len(np.unique(max_observation['Region']))/len(self.grid_points))\n",
    "        self.exploration_data = np.array(self.exploration_data)\n",
    "        self.exploration_data = np.around(self.exploration_data, decimals = 3)\n",
    "        return self.exploration_data[-1]\n",
    "        \n",
    "    def exploitation_bar_chart(self, min_number = 3):\n",
    "        self.create_grid_table()\n",
    "        #Creating table for bar chart\n",
    "        self.exploitation_bar_chart_table = self.grid_table.loc[self.grid_table['Count'] >= min_number].reset_index(drop=True)\n",
    "        self.exploitation_bar_chart_table['Region'] = self.exploitation_bar_chart_table['Region'].astype(str)\n",
    "        for i in range(len(self.exploitation_bar_chart_table['Point'])):\n",
    "            self.exploitation_bar_chart_table.at[i, 'Point'] = np.around(self.exploitation_bar_chart_table.at[i, 'Point'], decimals = 2)\n",
    "        self.exploitation_bar_chart_table['Point'] = self.exploitation_bar_chart_table['Point'].astype(str)\n",
    "        \n",
    "        #Plotting\n",
    "        fig, ax = plt.subplots(figsize =(10, 7))\n",
    "\n",
    "        #Horizontal Bar Plot\n",
    "        ax.barh(self.exploitation_bar_chart_table['Point'], self.exploitation_bar_chart_table['Count'],\n",
    "                color ='blue')\n",
    "        \n",
    "        plt.xticks(fontsize = 12)\n",
    "        plt.yticks(fontsize = 12)\n",
    "        plt.xlabel('Count', fontsize = 12)\n",
    "        plt.ylabel('Point ' + str(self.datalog['Elements'][0]), fontsize = 12)\n",
    "        plt.show()\n",
    "        return\n",
    "        \n",
    "    def exploration_vs_generation(self):\n",
    "        self.exploration_value()\n",
    "        y = self.exploration_data\n",
    "        x = np.arange(self.generation+1)\n",
    "            \n",
    "        #Plotting\n",
    "        fig = plt.figure(figsize = (10, 7))\n",
    "\n",
    "        plt.plot(x, y, marker = 'o', color = 'blue')\n",
    "        plt.xticks(np.arange(0, self.generation+1, 5), fontsize = 12)\n",
    "        plt.yticks(fontsize = 12)\n",
    "        plt.ylim(-0.05, 1)\n",
    "        plt.xlabel('Generation', fontsize = 12)\n",
    "        plt.ylabel('Exploration', fontsize = 12)\n",
    "        plt.show()\n",
    "        return\n",
    "    \n",
    "    def exploitation_vs_generation(self):\n",
    "        self.exploitation_value()\n",
    "        y = self.exploitation_data\n",
    "        x = np.arange(self.generation+1)\n",
    "        \n",
    "        #Plotting\n",
    "        fig = plt.figure(figsize = (10, 7))\n",
    "\n",
    "        plt.plot(x, y, marker = 'o', color = 'blue')\n",
    "        plt.xticks(np.arange(0, self.generation+1, 5), fontsize = 12)\n",
    "        plt.yticks(fontsize = 12)\n",
    "        plt.ylim(-0.05, 1)\n",
    "        plt.xlabel('Generation', fontsize = 12)\n",
    "        plt.ylabel('Exploitation', fontsize = 12)\n",
    "        plt.show()\n",
    "        return"
   ]
  },
  {
   "cell_type": "code",
   "execution_count": 4,
   "id": "d8231488",
   "metadata": {},
   "outputs": [],
   "source": [
    "class find_best:\n",
    "    def __init__(self, data):\n",
    "        self.datalog = data\n",
    "        self.datalog = self.datalog[['ID', 'Elements', 'Generation', 'Position', 'Activity']]\n",
    "        self.generation = self.datalog['Generation'].max()\n",
    "    \n",
    "    def g_best(self):\n",
    "        return self.datalog.loc[np.argmin(self.datalog['Activity'])]\n",
    "    \n",
    "    def find_distance(self, target):\n",
    "        self.distance = []\n",
    "        for i in range(len(self.datalog)):\n",
    "            self.distance.append(np.sqrt(sum((self.datalog.at[i, 'Position']-target)**2)))\n",
    "        self.distance = np.array(self.distance)\n",
    "        self.distance = np.around(self.distance, decimals = 3)\n",
    "        return\n",
    "    \n",
    "    def first_to_reach_limit(self, target, limit):\n",
    "        self.find_distance(target)\n",
    "        if len(np.array(np.where(self.distance < limit))[0]) == 0:\n",
    "            result = None\n",
    "        else:\n",
    "            result = self.datalog.loc[np.array(np.where(self.distance < limit)).min()]\n",
    "        return result\n",
    "    \n",
    "    def min_value_vs_generation(self):\n",
    "        self.min_value = []\n",
    "        for i in range(self.generation+1):\n",
    "            self.min_value.append(self.datalog.loc[self.datalog['Generation'] <= i]['Activity'].min())\n",
    "        self.min_value_vs_generation_table = pd.DataFrame((np.arange(self.generation+1)), columns = ['Generation'])\n",
    "        self.min_value_vs_generation_table['min_value'] = self.min_value\n",
    "        \n",
    "        #Plotting\n",
    "        fig = plt.figure(figsize = (10, 7))\n",
    "        \n",
    "        plt.plot(self.min_value_vs_generation_table['Generation'], self.min_value_vs_generation_table['min_value'], marker = 'o', color = 'blue')\n",
    "        plt.xticks(np.arange(0, self.generation+1, 5), fontsize = 12)\n",
    "        plt.ylim(-1.2, -0.4)\n",
    "        plt.yticks(fontsize = 12)\n",
    "        plt.xlabel(\"Generation\", fontsize = 12)\n",
    "        plt.ylabel(\"Min Value\", fontsize = 12)\n",
    "        plt.show()\n",
    "        return\n",
    "      \n",
    "   \n",
    "    def distance_vs_generation(self, target):\n",
    "        self.find_distance(target)\n",
    "        #Creating Distance vs Generation Table\n",
    "        self.distance_value = []\n",
    "        for i in range(self.generation+1):\n",
    "            self.distance_value.append(self.distance[0:(self.datalog['ID'].max()*(i+1))].min())\n",
    "        self.distance_value_vs_generation_table = pd.DataFrame((np.arange(self.generation+1)), columns = ['Generation'])\n",
    "        self.distance_value_vs_generation_table['Distance'] = self.distance_value\n",
    "        \n",
    "\n",
    "        #Plotting\n",
    "        fig = plt.figure(figsize = (10, 7))\n",
    "        plt.plot(self.distance_value_vs_generation_table['Generation'], self.distance_value_vs_generation_table['Distance'], marker = 'o', color = 'blue')\n",
    "        plt.ylim(-0.05, 0.5)\n",
    "        plt.yticks(fontsize = 12)\n",
    "        plt.xticks(np.arange(0, self.generation+1, 5), fontsize = 12)\n",
    "        plt.xlabel('Generation', fontsize = 12)\n",
    "        plt.ylabel('Distance', fontsize = 12)\n",
    "        plt.show()\n",
    "        return"
   ]
  },
  {
   "cell_type": "code",
   "execution_count": 5,
   "id": "295a9f15",
   "metadata": {},
   "outputs": [],
   "source": [
    "datalog_3D_G = create_PSO(pd.read_csv('Result/PSO 3D.txt', sep='\\t'))"
   ]
  },
  {
   "cell_type": "code",
   "execution_count": 6,
   "id": "42c0d3ca",
   "metadata": {},
   "outputs": [],
   "source": [
    "PSO_3D_G_grid = grid(datalog_3D_G, grid_len = 10)"
   ]
  },
  {
   "cell_type": "code",
   "execution_count": 48,
   "id": "504348e4",
   "metadata": {
    "scrolled": false
   },
   "outputs": [
    {
     "data": {
      "text/plain": [
       "ID                                5\n",
       "Elements               [Pt, Pd, Au]\n",
       "Generation                       19\n",
       "Position      [0.376, 0.326, 0.297]\n",
       "Activity                    -1.0244\n",
       "Region                           63\n",
       "Visited                        True\n",
       "Name: 118, dtype: object"
      ]
     },
     "execution_count": 48,
     "metadata": {},
     "output_type": "execute_result"
    }
   ],
   "source": [
    "PSO_3D_G_grid.datalog.loc[PSO_3D_G_grid.datalog['Activity'].argmin()]"
   ]
  },
  {
   "cell_type": "code",
   "execution_count": 53,
   "id": "ff7d70f6",
   "metadata": {},
   "outputs": [
    {
     "data": {
      "text/html": [
       "<div>\n",
       "<style scoped>\n",
       "    .dataframe tbody tr th:only-of-type {\n",
       "        vertical-align: middle;\n",
       "    }\n",
       "\n",
       "    .dataframe tbody tr th {\n",
       "        vertical-align: top;\n",
       "    }\n",
       "\n",
       "    .dataframe thead th {\n",
       "        text-align: right;\n",
       "    }\n",
       "</style>\n",
       "<table border=\"1\" class=\"dataframe\">\n",
       "  <thead>\n",
       "    <tr style=\"text-align: right;\">\n",
       "      <th></th>\n",
       "      <th>Elements</th>\n",
       "      <th>Point</th>\n",
       "      <th>Region</th>\n",
       "      <th>Count</th>\n",
       "      <th>First visit</th>\n",
       "    </tr>\n",
       "  </thead>\n",
       "  <tbody>\n",
       "    <tr>\n",
       "      <th>72</th>\n",
       "      <td>[Pt, Pd, Au]</td>\n",
       "      <td>[0.4667, 0.2667, 0.2667]</td>\n",
       "      <td>72</td>\n",
       "      <td>9</td>\n",
       "      <td>31.0</td>\n",
       "    </tr>\n",
       "  </tbody>\n",
       "</table>\n",
       "</div>"
      ],
      "text/plain": [
       "        Elements                     Point  Region  Count  First visit\n",
       "72  [Pt, Pd, Au]  [0.4667, 0.2667, 0.2667]      72      9         31.0"
      ]
     },
     "execution_count": 53,
     "metadata": {},
     "output_type": "execute_result"
    }
   ],
   "source": [
    "PSO_3D_G_grid.grid_table[PSO_3D_G_grid.grid_table['Count']==9]"
   ]
  },
  {
   "cell_type": "code",
   "execution_count": 7,
   "id": "7d1a8e25",
   "metadata": {
    "scrolled": true
   },
   "outputs": [
    {
     "data": {
      "image/png": "[encoded data removed]",
      "text/plain": [
       "<Figure size 720x504 with 1 Axes>"
      ]
     },
     "metadata": {
      "needs_background": "light"
     },
     "output_type": "display_data"
    }
   ],
   "source": [
    "PSO_3D_G_grid.exploitation_vs_generation()"
   ]
  },
  {
   "cell_type": "code",
   "execution_count": 27,
   "id": "c34d2af3",
   "metadata": {},
   "outputs": [
    {
     "data": {
      "image/png": "[encoded data removed]",
      "text/plain": [
       "<Figure size 720x504 with 1 Axes>"
      ]
     },
     "metadata": {
      "needs_background": "light"
     },
     "output_type": "display_data"
    }
   ],
   "source": [
    "PSO_3D_G_grid.exploration_vs_generation()"
   ]
  },
  {
   "cell_type": "code",
   "execution_count": 8,
   "id": "85474bb8",
   "metadata": {},
   "outputs": [
    {
     "data": {
      "image/png": "[encoded data removed]",
      "text/plain": [
       "<Figure size 720x504 with 1 Axes>"
      ]
     },
     "metadata": {
      "needs_background": "light"
     },
     "output_type": "display_data"
    }
   ],
   "source": [
    "PSO_3D_G_grid.exploitation_bar_chart(5)"
   ]
  },
  {
   "cell_type": "code",
   "execution_count": null,
   "id": "67cc8788",
   "metadata": {},
   "outputs": [],
   "source": [
    "PSO_3D_G_grid.exploitation_bar_chart_table"
   ]
  },
  {
   "cell_type": "code",
   "execution_count": null,
   "id": "cf985bdf",
   "metadata": {},
   "outputs": [],
   "source": []
  },
  {
   "cell_type": "code",
   "execution_count": 9,
   "id": "692208f9",
   "metadata": {},
   "outputs": [],
   "source": [
    "PSO_3D_G_best = find_best(datalog_3D_G)"
   ]
  },
  {
   "cell_type": "code",
   "execution_count": 11,
   "id": "c5dcfd3f",
   "metadata": {},
   "outputs": [
    {
     "data": {
      "image/png": "[encoded data removed]",
      "text/plain": [
       "<Figure size 720x504 with 1 Axes>"
      ]
     },
     "metadata": {
      "needs_background": "light"
     },
     "output_type": "display_data"
    }
   ],
   "source": [
    "PSO_3D_G_best.distance_vs_generation(PSO_3D_G_best.g_best()['Position'])"
   ]
  },
  {
   "cell_type": "code",
   "execution_count": null,
   "id": "b81e9cc1",
   "metadata": {},
   "outputs": [],
   "source": [
    "PSO_3D_G_best.distance"
   ]
  },
  {
   "cell_type": "code",
   "execution_count": null,
   "id": "dc6dbfa4",
   "metadata": {},
   "outputs": [],
   "source": []
  },
  {
   "cell_type": "code",
   "execution_count": null,
   "id": "8479015f",
   "metadata": {},
   "outputs": [],
   "source": []
  },
  {
   "cell_type": "code",
   "execution_count": 56,
   "id": "6c67511b",
   "metadata": {},
   "outputs": [],
   "source": [
    "datalog_3D = create_PSO(pd.read_csv('Result/PSO 3D G = 0.txt', sep='\\t'))"
   ]
  },
  {
   "cell_type": "code",
   "execution_count": 13,
   "id": "7b97880a",
   "metadata": {},
   "outputs": [],
   "source": [
    "PSO_3D_grid = grid(datalog_3D, grid_len = 10)"
   ]
  },
  {
   "cell_type": "code",
   "execution_count": 51,
   "id": "c8babb47",
   "metadata": {},
   "outputs": [
    {
     "data": {
      "text/plain": [
       "ID                                5\n",
       "Elements               [Pt, Pd, Au]\n",
       "Generation                       19\n",
       "Position      [0.302, 0.438, 0.258]\n",
       "Activity                  -0.981191\n",
       "Region                           54\n",
       "Visited                        True\n",
       "Name: 118, dtype: object"
      ]
     },
     "execution_count": 51,
     "metadata": {},
     "output_type": "execute_result"
    }
   ],
   "source": [
    "PSO_3D_grid.datalog.loc[PSO_3D_G_grid.datalog['Activity'].argmin()]"
   ]
  },
  {
   "cell_type": "code",
   "execution_count": 52,
   "id": "d545f745",
   "metadata": {},
   "outputs": [
    {
     "data": {
      "text/html": [
       "<div>\n",
       "<style scoped>\n",
       "    .dataframe tbody tr th:only-of-type {\n",
       "        vertical-align: middle;\n",
       "    }\n",
       "\n",
       "    .dataframe tbody tr th {\n",
       "        vertical-align: top;\n",
       "    }\n",
       "\n",
       "    .dataframe thead th {\n",
       "        text-align: right;\n",
       "    }\n",
       "</style>\n",
       "<table border=\"1\" class=\"dataframe\">\n",
       "  <thead>\n",
       "    <tr style=\"text-align: right;\">\n",
       "      <th></th>\n",
       "      <th>Elements</th>\n",
       "      <th>Point</th>\n",
       "      <th>Region</th>\n",
       "      <th>Count</th>\n",
       "      <th>First visit</th>\n",
       "    </tr>\n",
       "  </thead>\n",
       "  <tbody>\n",
       "    <tr>\n",
       "      <th>54</th>\n",
       "      <td>[Pt, Pd, Au]</td>\n",
       "      <td>[0.3333, 0.4333, 0.2333]</td>\n",
       "      <td>54</td>\n",
       "      <td>3</td>\n",
       "      <td>20.0</td>\n",
       "    </tr>\n",
       "  </tbody>\n",
       "</table>\n",
       "</div>"
      ],
      "text/plain": [
       "        Elements                     Point  Region  Count  First visit\n",
       "54  [Pt, Pd, Au]  [0.3333, 0.4333, 0.2333]      54      3         20.0"
      ]
     },
     "execution_count": 52,
     "metadata": {},
     "output_type": "execute_result"
    }
   ],
   "source": [
    "PSO_3D_G_grid.grid_table[PSO_3D_G_grid.grid_table['Region']==54]"
   ]
  },
  {
   "cell_type": "code",
   "execution_count": 15,
   "id": "5b574c3f",
   "metadata": {
    "scrolled": true
   },
   "outputs": [
    {
     "data": {
      "image/png": "[encoded data removed]",
      "text/plain": [
       "<Figure size 720x504 with 1 Axes>"
      ]
     },
     "metadata": {
      "needs_background": "light"
     },
     "output_type": "display_data"
    }
   ],
   "source": [
    "PSO_3D_grid.exploitation_vs_generation()"
   ]
  },
  {
   "cell_type": "code",
   "execution_count": 28,
   "id": "855b3f2e",
   "metadata": {},
   "outputs": [
    {
     "data": {
      "image/png": "[encoded data removed]",
      "text/plain": [
       "<Figure size 720x504 with 1 Axes>"
      ]
     },
     "metadata": {
      "needs_background": "light"
     },
     "output_type": "display_data"
    }
   ],
   "source": [
    "PSO_3D_grid.exploration_vs_generation()"
   ]
  },
  {
   "cell_type": "code",
   "execution_count": 16,
   "id": "0341fea3",
   "metadata": {},
   "outputs": [
    {
     "data": {
      "image/png": "[encoded data removed]",
      "text/plain": [
       "<Figure size 720x504 with 1 Axes>"
      ]
     },
     "metadata": {
      "needs_background": "light"
     },
     "output_type": "display_data"
    }
   ],
   "source": [
    "PSO_3D_grid.exploitation_bar_chart(5)"
   ]
  },
  {
   "cell_type": "code",
   "execution_count": 17,
   "id": "c73e6070",
   "metadata": {},
   "outputs": [],
   "source": [
    "PSO_3D_best = find_best(datalog_3D)"
   ]
  },
  {
   "cell_type": "code",
   "execution_count": 18,
   "id": "2ea96bf7",
   "metadata": {},
   "outputs": [
    {
     "data": {
      "image/png": "[encoded data removed]",
      "text/plain": [
       "<Figure size 720x504 with 1 Axes>"
      ]
     },
     "metadata": {
      "needs_background": "light"
     },
     "output_type": "display_data"
    }
   ],
   "source": [
    "PSO_3D_best.distance_vs_generation(PSO_3D_best.g_best()['Position'])"
   ]
  },
  {
   "cell_type": "code",
   "execution_count": null,
   "id": "55ca5390",
   "metadata": {},
   "outputs": [],
   "source": []
  },
  {
   "cell_type": "code",
   "execution_count": 19,
   "id": "4fefda33",
   "metadata": {},
   "outputs": [
    {
     "data": {
      "text/plain": [
       "array([0.   , 0.   , 0.111, 0.125, 0.2  , 0.222, 0.238, 0.25 , 0.278,\n",
       "       0.317, 0.348, 0.375, 0.423, 0.464, 0.489, 0.49 , 0.49 , 0.519,\n",
       "       0.526, 0.55 , 0.563])"
      ]
     },
     "execution_count": 19,
     "metadata": {},
     "output_type": "execute_result"
    }
   ],
   "source": [
    "PSO_3D_grid.exploitation_data"
   ]
  },
  {
   "cell_type": "code",
   "execution_count": 25,
   "id": "25df7f75",
   "metadata": {},
   "outputs": [
    {
     "data": {
      "image/png": "[encoded data removed]",
      "text/plain": [
       "<Figure size 720x504 with 1 Axes>"
      ]
     },
     "metadata": {
      "needs_background": "light"
     },
     "output_type": "display_data"
    }
   ],
   "source": [
    "#Plot exploitation vs generation\n",
    "x = np.arange(PSO_3D_grid.generation+1)\n",
    "\n",
    "#Plotting\n",
    "fig = plt.figure(figsize = (10, 7))\n",
    "\n",
    "plt.plot(x, PSO_3D_grid.exploitation_data, marker = 'o', color = 'blue', label = 'Global Factor = 0')\n",
    "plt.plot(x, PSO_3D_G_grid.exploitation_data, marker = 'o', color = 'red', label = 'Global Factor = 1.2')\n",
    "\n",
    "plt.legend()\n",
    "plt.xticks(np.arange(0, PSO_3D_grid.generation+1, 5), fontsize = 12)\n",
    "plt.yticks(fontsize = 12)\n",
    "plt.ylim(-0.05, 1)\n",
    "plt.xlabel('Generation', fontsize = 12)\n",
    "plt.ylabel('Exploitation', fontsize = 12)\n",
    "plt.show()"
   ]
  },
  {
   "cell_type": "code",
   "execution_count": 54,
   "id": "bc857e9a",
   "metadata": {},
   "outputs": [
    {
     "data": {
      "image/png": "[encoded data removed]",
      "text/plain": [
       "<Figure size 720x504 with 1 Axes>"
      ]
     },
     "metadata": {
      "needs_background": "light"
     },
     "output_type": "display_data"
    }
   ],
   "source": [
    "#Plot exploration vs generation\n",
    "x = np.arange(PSO_3D_grid.generation+1)\n",
    "\n",
    "#Plotting\n",
    "fig = plt.figure(figsize = (10, 7))\n",
    "\n",
    "plt.plot(x, PSO_3D_grid.exploration_data, marker = 'o', color = 'blue', label = 'Global Factor = 0')\n",
    "plt.plot(x, PSO_3D_G_grid.exploration_data, marker = 'o', color = 'red', label = 'Global Factor = 1.2')\n",
    "\n",
    "plt.legend()\n",
    "plt.xticks(np.arange(0, PSO_3D_grid.generation+1, 5), fontsize = 12)\n",
    "plt.yticks(fontsize = 12)\n",
    "plt.ylim(-0.05, 1)\n",
    "plt.xlabel('Generation', fontsize = 12)\n",
    "plt.ylabel('Exploration', fontsize = 12)\n",
    "plt.show()"
   ]
  },
  {
   "cell_type": "code",
   "execution_count": null,
   "id": "f5121811",
   "metadata": {},
   "outputs": [],
   "source": []
  },
  {
   "cell_type": "code",
   "execution_count": null,
   "id": "f762a7d3",
   "metadata": {},
   "outputs": [],
   "source": []
  },
  {
   "cell_type": "code",
   "execution_count": null,
   "id": "3097cc55",
   "metadata": {},
   "outputs": [],
   "source": []
  },
  {
   "cell_type": "code",
   "execution_count": 77,
   "id": "b1a64d07",
   "metadata": {},
   "outputs": [],
   "source": [
    "datalog_8D = create_PSO(pd.read_csv('Result/PSO 8D.txt', sep='\\t'))"
   ]
  },
  {
   "cell_type": "code",
   "execution_count": 78,
   "id": "b07352a3",
   "metadata": {},
   "outputs": [],
   "source": [
    "PSO_8D_grid = grid(datalog_8D, grid_len = 5)"
   ]
  },
  {
   "cell_type": "code",
   "execution_count": 107,
   "id": "b0a9754b",
   "metadata": {},
   "outputs": [
    {
     "data": {
      "text/html": [
       "<div>\n",
       "<style scoped>\n",
       "    .dataframe tbody tr th:only-of-type {\n",
       "        vertical-align: middle;\n",
       "    }\n",
       "\n",
       "    .dataframe tbody tr th {\n",
       "        vertical-align: top;\n",
       "    }\n",
       "\n",
       "    .dataframe thead th {\n",
       "        text-align: right;\n",
       "    }\n",
       "</style>\n",
       "<table border=\"1\" class=\"dataframe\">\n",
       "  <thead>\n",
       "    <tr style=\"text-align: right;\">\n",
       "      <th></th>\n",
       "      <th>ID</th>\n",
       "      <th>Elements</th>\n",
       "      <th>Generation</th>\n",
       "      <th>Position</th>\n",
       "      <th>Activity</th>\n",
       "      <th>Region</th>\n",
       "      <th>Visited</th>\n",
       "    </tr>\n",
       "    <tr>\n",
       "      <th>Experiment</th>\n",
       "      <th></th>\n",
       "      <th></th>\n",
       "      <th></th>\n",
       "      <th></th>\n",
       "      <th></th>\n",
       "      <th></th>\n",
       "      <th></th>\n",
       "    </tr>\n",
       "  </thead>\n",
       "  <tbody>\n",
       "    <tr>\n",
       "      <th>0</th>\n",
       "      <td>1</td>\n",
       "      <td>[Pt, Pd, Au, Ru, Rh, Ir, Re, Os]</td>\n",
       "      <td>0</td>\n",
       "      <td>[0.143, 0.143, 0.143, 0.143, 0.143, 0.0, 0.143...</td>\n",
       "      <td>-0.428177</td>\n",
       "      <td>0</td>\n",
       "      <td>False</td>\n",
       "    </tr>\n",
       "    <tr>\n",
       "      <th>1</th>\n",
       "      <td>2</td>\n",
       "      <td>[Pt, Pd, Au, Ru, Rh, Ir, Re, Os]</td>\n",
       "      <td>0</td>\n",
       "      <td>[0.0, 0.143, 0.143, 0.143, 0.143, 0.143, 0.143...</td>\n",
       "      <td>-0.148294</td>\n",
       "      <td>0</td>\n",
       "      <td>True</td>\n",
       "    </tr>\n",
       "    <tr>\n",
       "      <th>2</th>\n",
       "      <td>3</td>\n",
       "      <td>[Pt, Pd, Au, Ru, Rh, Ir, Re, Os]</td>\n",
       "      <td>0</td>\n",
       "      <td>[0.143, 0.143, 0.143, 0.143, 0.0, 0.143, 0.143...</td>\n",
       "      <td>-0.380620</td>\n",
       "      <td>0</td>\n",
       "      <td>True</td>\n",
       "    </tr>\n",
       "    <tr>\n",
       "      <th>3</th>\n",
       "      <td>4</td>\n",
       "      <td>[Pt, Pd, Au, Ru, Rh, Ir, Re, Os]</td>\n",
       "      <td>0</td>\n",
       "      <td>[0.143, 0.143, 0.143, 0.0, 0.143, 0.143, 0.143...</td>\n",
       "      <td>-0.358512</td>\n",
       "      <td>26</td>\n",
       "      <td>False</td>\n",
       "    </tr>\n",
       "    <tr>\n",
       "      <th>4</th>\n",
       "      <td>5</td>\n",
       "      <td>[Pt, Pd, Au, Ru, Rh, Ir, Re, Os]</td>\n",
       "      <td>0</td>\n",
       "      <td>[0.143, 0.143, 0.0, 0.143, 0.143, 0.143, 0.143...</td>\n",
       "      <td>-0.273015</td>\n",
       "      <td>38</td>\n",
       "      <td>False</td>\n",
       "    </tr>\n",
       "    <tr>\n",
       "      <th>5</th>\n",
       "      <td>6</td>\n",
       "      <td>[Pt, Pd, Au, Ru, Rh, Ir, Re, Os]</td>\n",
       "      <td>0</td>\n",
       "      <td>[0.113, 0.327, 0.192, 0.046, 0.013, 0.111, 0.0...</td>\n",
       "      <td>-0.643774</td>\n",
       "      <td>279</td>\n",
       "      <td>False</td>\n",
       "    </tr>\n",
       "    <tr>\n",
       "      <th>6</th>\n",
       "      <td>7</td>\n",
       "      <td>[Pt, Pd, Au, Ru, Rh, Ir, Re, Os]</td>\n",
       "      <td>0</td>\n",
       "      <td>[0.188, 0.031, 0.163, 0.105, 0.144, 0.073, 0.1...</td>\n",
       "      <td>-0.393725</td>\n",
       "      <td>308</td>\n",
       "      <td>False</td>\n",
       "    </tr>\n",
       "    <tr>\n",
       "      <th>7</th>\n",
       "      <td>8</td>\n",
       "      <td>[Pt, Pd, Au, Ru, Rh, Ir, Re, Os]</td>\n",
       "      <td>0</td>\n",
       "      <td>[0.072, 0.194, 0.057, 0.166, 0.285, 0.076, 0.0...</td>\n",
       "      <td>-0.244827</td>\n",
       "      <td>278</td>\n",
       "      <td>False</td>\n",
       "    </tr>\n",
       "    <tr>\n",
       "      <th>8</th>\n",
       "      <td>9</td>\n",
       "      <td>[Pt, Pd, Au, Ru, Rh, Ir, Re, Os]</td>\n",
       "      <td>0</td>\n",
       "      <td>[0.086, 0.12, 0.226, 0.185, 0.062, 0.021, 0.12...</td>\n",
       "      <td>-0.451749</td>\n",
       "      <td>271</td>\n",
       "      <td>False</td>\n",
       "    </tr>\n",
       "    <tr>\n",
       "      <th>9</th>\n",
       "      <td>10</td>\n",
       "      <td>[Pt, Pd, Au, Ru, Rh, Ir, Re, Os]</td>\n",
       "      <td>0</td>\n",
       "      <td>[0.016, 0.108, 0.133, 0.178, 0.083, 0.139, 0.2...</td>\n",
       "      <td>-0.125804</td>\n",
       "      <td>217</td>\n",
       "      <td>False</td>\n",
       "    </tr>\n",
       "    <tr>\n",
       "      <th>10</th>\n",
       "      <td>1</td>\n",
       "      <td>[Pt, Pd, Au, Ru, Rh, Ir, Re, Os]</td>\n",
       "      <td>1</td>\n",
       "      <td>[0.158, 0.147, 0.083, 0.086, 0.095, 0.191, 0.0...</td>\n",
       "      <td>-0.283785</td>\n",
       "      <td>368</td>\n",
       "      <td>False</td>\n",
       "    </tr>\n",
       "  </tbody>\n",
       "</table>\n",
       "</div>"
      ],
      "text/plain": [
       "            ID                          Elements  Generation  \\\n",
       "Experiment                                                     \n",
       "0            1  [Pt, Pd, Au, Ru, Rh, Ir, Re, Os]           0   \n",
       "1            2  [Pt, Pd, Au, Ru, Rh, Ir, Re, Os]           0   \n",
       "2            3  [Pt, Pd, Au, Ru, Rh, Ir, Re, Os]           0   \n",
       "3            4  [Pt, Pd, Au, Ru, Rh, Ir, Re, Os]           0   \n",
       "4            5  [Pt, Pd, Au, Ru, Rh, Ir, Re, Os]           0   \n",
       "5            6  [Pt, Pd, Au, Ru, Rh, Ir, Re, Os]           0   \n",
       "6            7  [Pt, Pd, Au, Ru, Rh, Ir, Re, Os]           0   \n",
       "7            8  [Pt, Pd, Au, Ru, Rh, Ir, Re, Os]           0   \n",
       "8            9  [Pt, Pd, Au, Ru, Rh, Ir, Re, Os]           0   \n",
       "9           10  [Pt, Pd, Au, Ru, Rh, Ir, Re, Os]           0   \n",
       "10           1  [Pt, Pd, Au, Ru, Rh, Ir, Re, Os]           1   \n",
       "\n",
       "                                                     Position  Activity  \\\n",
       "Experiment                                                                \n",
       "0           [0.143, 0.143, 0.143, 0.143, 0.143, 0.0, 0.143... -0.428177   \n",
       "1           [0.0, 0.143, 0.143, 0.143, 0.143, 0.143, 0.143... -0.148294   \n",
       "2           [0.143, 0.143, 0.143, 0.143, 0.0, 0.143, 0.143... -0.380620   \n",
       "3           [0.143, 0.143, 0.143, 0.0, 0.143, 0.143, 0.143... -0.358512   \n",
       "4           [0.143, 0.143, 0.0, 0.143, 0.143, 0.143, 0.143... -0.273015   \n",
       "5           [0.113, 0.327, 0.192, 0.046, 0.013, 0.111, 0.0... -0.643774   \n",
       "6           [0.188, 0.031, 0.163, 0.105, 0.144, 0.073, 0.1... -0.393725   \n",
       "7           [0.072, 0.194, 0.057, 0.166, 0.285, 0.076, 0.0... -0.244827   \n",
       "8           [0.086, 0.12, 0.226, 0.185, 0.062, 0.021, 0.12... -0.451749   \n",
       "9           [0.016, 0.108, 0.133, 0.178, 0.083, 0.139, 0.2... -0.125804   \n",
       "10          [0.158, 0.147, 0.083, 0.086, 0.095, 0.191, 0.0... -0.283785   \n",
       "\n",
       "            Region  Visited  \n",
       "Experiment                   \n",
       "0                0    False  \n",
       "1                0     True  \n",
       "2                0     True  \n",
       "3               26    False  \n",
       "4               38    False  \n",
       "5              279    False  \n",
       "6              308    False  \n",
       "7              278    False  \n",
       "8              271    False  \n",
       "9              217    False  \n",
       "10             368    False  "
      ]
     },
     "execution_count": 107,
     "metadata": {},
     "output_type": "execute_result"
    }
   ],
   "source": [
    "PSO_8D_grid.datalog.loc[0:10]"
   ]
  },
  {
   "cell_type": "code",
   "execution_count": 106,
   "id": "2a3f5df1",
   "metadata": {},
   "outputs": [
    {
     "data": {
      "text/html": [
       "<div>\n",
       "<style scoped>\n",
       "    .dataframe tbody tr th:only-of-type {\n",
       "        vertical-align: middle;\n",
       "    }\n",
       "\n",
       "    .dataframe tbody tr th {\n",
       "        vertical-align: top;\n",
       "    }\n",
       "\n",
       "    .dataframe thead th {\n",
       "        text-align: right;\n",
       "    }\n",
       "</style>\n",
       "<table border=\"1\" class=\"dataframe\">\n",
       "  <thead>\n",
       "    <tr style=\"text-align: right;\">\n",
       "      <th></th>\n",
       "      <th>Elements</th>\n",
       "      <th>Point</th>\n",
       "      <th>Region</th>\n",
       "      <th>Count</th>\n",
       "      <th>First visit</th>\n",
       "    </tr>\n",
       "  </thead>\n",
       "  <tbody>\n",
       "    <tr>\n",
       "      <th>0</th>\n",
       "      <td>[Pt, Pd, Au, Ru, Rh, Ir, Re, Os]</td>\n",
       "      <td>[0.025, 0.025, 0.225, 0.225, 0.025, 0.025, 0.2...</td>\n",
       "      <td>0</td>\n",
       "      <td>3</td>\n",
       "      <td>0.0</td>\n",
       "    </tr>\n",
       "    <tr>\n",
       "      <th>1</th>\n",
       "      <td>[Pt, Pd, Au, Ru, Rh, Ir, Re, Os]</td>\n",
       "      <td>[0.025, 0.025, 0.225, 0.225, 0.025, 0.025, 0.4...</td>\n",
       "      <td>1</td>\n",
       "      <td>0</td>\n",
       "      <td>NaN</td>\n",
       "    </tr>\n",
       "    <tr>\n",
       "      <th>2</th>\n",
       "      <td>[Pt, Pd, Au, Ru, Rh, Ir, Re, Os]</td>\n",
       "      <td>[0.025, 0.025, 0.225, 0.225, 0.025, 0.225, 0.0...</td>\n",
       "      <td>2</td>\n",
       "      <td>0</td>\n",
       "      <td>NaN</td>\n",
       "    </tr>\n",
       "    <tr>\n",
       "      <th>3</th>\n",
       "      <td>[Pt, Pd, Au, Ru, Rh, Ir, Re, Os]</td>\n",
       "      <td>[0.025, 0.025, 0.225, 0.225, 0.025, 0.025, 0.0...</td>\n",
       "      <td>3</td>\n",
       "      <td>0</td>\n",
       "      <td>NaN</td>\n",
       "    </tr>\n",
       "    <tr>\n",
       "      <th>4</th>\n",
       "      <td>[Pt, Pd, Au, Ru, Rh, Ir, Re, Os]</td>\n",
       "      <td>[0.025, 0.025, 0.225, 0.225, 0.025, 0.225, 0.2...</td>\n",
       "      <td>4</td>\n",
       "      <td>0</td>\n",
       "      <td>NaN</td>\n",
       "    </tr>\n",
       "    <tr>\n",
       "      <th>...</th>\n",
       "      <td>...</td>\n",
       "      <td>...</td>\n",
       "      <td>...</td>\n",
       "      <td>...</td>\n",
       "      <td>...</td>\n",
       "    </tr>\n",
       "    <tr>\n",
       "      <th>445</th>\n",
       "      <td>[Pt, Pd, Au, Ru, Rh, Ir, Re, Os]</td>\n",
       "      <td>[0.625, 0.025, 0.025, 0.025, 0.025, 0.025, 0.2...</td>\n",
       "      <td>445</td>\n",
       "      <td>0</td>\n",
       "      <td>NaN</td>\n",
       "    </tr>\n",
       "    <tr>\n",
       "      <th>446</th>\n",
       "      <td>[Pt, Pd, Au, Ru, Rh, Ir, Re, Os]</td>\n",
       "      <td>[0.625, 0.025, 0.025, 0.025, 0.025, 0.025, 0.0...</td>\n",
       "      <td>446</td>\n",
       "      <td>0</td>\n",
       "      <td>NaN</td>\n",
       "    </tr>\n",
       "    <tr>\n",
       "      <th>447</th>\n",
       "      <td>[Pt, Pd, Au, Ru, Rh, Ir, Re, Os]</td>\n",
       "      <td>[0.625, 0.225, 0.025, 0.025, 0.025, 0.025, 0.0...</td>\n",
       "      <td>447</td>\n",
       "      <td>0</td>\n",
       "      <td>NaN</td>\n",
       "    </tr>\n",
       "    <tr>\n",
       "      <th>448</th>\n",
       "      <td>[Pt, Pd, Au, Ru, Rh, Ir, Re, Os]</td>\n",
       "      <td>[0.65, 0.05, 0.05, 0.05, 0.05, 0.05, 0.05, 0.05]</td>\n",
       "      <td>448</td>\n",
       "      <td>0</td>\n",
       "      <td>NaN</td>\n",
       "    </tr>\n",
       "    <tr>\n",
       "      <th>449</th>\n",
       "      <td>[Pt, Pd, Au, Ru, Rh, Ir, Re, Os]</td>\n",
       "      <td>[0.825, 0.025, 0.025, 0.025, 0.025, 0.025, 0.0...</td>\n",
       "      <td>449</td>\n",
       "      <td>0</td>\n",
       "      <td>NaN</td>\n",
       "    </tr>\n",
       "  </tbody>\n",
       "</table>\n",
       "<p>450 rows × 5 columns</p>\n",
       "</div>"
      ],
      "text/plain": [
       "                             Elements  \\\n",
       "0    [Pt, Pd, Au, Ru, Rh, Ir, Re, Os]   \n",
       "1    [Pt, Pd, Au, Ru, Rh, Ir, Re, Os]   \n",
       "2    [Pt, Pd, Au, Ru, Rh, Ir, Re, Os]   \n",
       "3    [Pt, Pd, Au, Ru, Rh, Ir, Re, Os]   \n",
       "4    [Pt, Pd, Au, Ru, Rh, Ir, Re, Os]   \n",
       "..                                ...   \n",
       "445  [Pt, Pd, Au, Ru, Rh, Ir, Re, Os]   \n",
       "446  [Pt, Pd, Au, Ru, Rh, Ir, Re, Os]   \n",
       "447  [Pt, Pd, Au, Ru, Rh, Ir, Re, Os]   \n",
       "448  [Pt, Pd, Au, Ru, Rh, Ir, Re, Os]   \n",
       "449  [Pt, Pd, Au, Ru, Rh, Ir, Re, Os]   \n",
       "\n",
       "                                                 Point  Region  Count  \\\n",
       "0    [0.025, 0.025, 0.225, 0.225, 0.025, 0.025, 0.2...       0      3   \n",
       "1    [0.025, 0.025, 0.225, 0.225, 0.025, 0.025, 0.4...       1      0   \n",
       "2    [0.025, 0.025, 0.225, 0.225, 0.025, 0.225, 0.0...       2      0   \n",
       "3    [0.025, 0.025, 0.225, 0.225, 0.025, 0.025, 0.0...       3      0   \n",
       "4    [0.025, 0.025, 0.225, 0.225, 0.025, 0.225, 0.2...       4      0   \n",
       "..                                                 ...     ...    ...   \n",
       "445  [0.625, 0.025, 0.025, 0.025, 0.025, 0.025, 0.2...     445      0   \n",
       "446  [0.625, 0.025, 0.025, 0.025, 0.025, 0.025, 0.0...     446      0   \n",
       "447  [0.625, 0.225, 0.025, 0.025, 0.025, 0.025, 0.0...     447      0   \n",
       "448   [0.65, 0.05, 0.05, 0.05, 0.05, 0.05, 0.05, 0.05]     448      0   \n",
       "449  [0.825, 0.025, 0.025, 0.025, 0.025, 0.025, 0.0...     449      0   \n",
       "\n",
       "     First visit  \n",
       "0            0.0  \n",
       "1            NaN  \n",
       "2            NaN  \n",
       "3            NaN  \n",
       "4            NaN  \n",
       "..           ...  \n",
       "445          NaN  \n",
       "446          NaN  \n",
       "447          NaN  \n",
       "448          NaN  \n",
       "449          NaN  \n",
       "\n",
       "[450 rows x 5 columns]"
      ]
     },
     "execution_count": 106,
     "metadata": {},
     "output_type": "execute_result"
    }
   ],
   "source": [
    "PSO_8D_grid.grid_table"
   ]
  },
  {
   "cell_type": "code",
   "execution_count": 79,
   "id": "aed554eb",
   "metadata": {
    "scrolled": true
   },
   "outputs": [
    {
     "data": {
      "image/png": "[encoded data removed]",
      "text/plain": [
       "<Figure size 720x504 with 1 Axes>"
      ]
     },
     "metadata": {
      "needs_background": "light"
     },
     "output_type": "display_data"
    }
   ],
   "source": [
    "PSO_8D_grid.exploitation_vs_generation()"
   ]
  },
  {
   "cell_type": "code",
   "execution_count": 80,
   "id": "97f4b3b5",
   "metadata": {},
   "outputs": [
    {
     "data": {
      "image/png": "[encoded data removed]",
      "text/plain": [
       "<Figure size 720x504 with 1 Axes>"
      ]
     },
     "metadata": {
      "needs_background": "light"
     },
     "output_type": "display_data"
    }
   ],
   "source": [
    "PSO_8D_grid.exploration_vs_generation()"
   ]
  },
  {
   "cell_type": "code",
   "execution_count": 84,
   "id": "58396357",
   "metadata": {},
   "outputs": [
    {
     "data": {
      "image/png": "[encoded data removed]",
      "text/plain": [
       "<Figure size 720x504 with 1 Axes>"
      ]
     },
     "metadata": {
      "needs_background": "light"
     },
     "output_type": "display_data"
    }
   ],
   "source": [
    "PSO_8D_grid.exploitation_bar_chart(10)"
   ]
  },
  {
   "cell_type": "code",
   "execution_count": 85,
   "id": "f0c09ce7",
   "metadata": {},
   "outputs": [],
   "source": [
    "PSO_8D_best = find_best(datalog_8D)"
   ]
  },
  {
   "cell_type": "code",
   "execution_count": 86,
   "id": "c65e9b40",
   "metadata": {},
   "outputs": [
    {
     "data": {
      "image/png": "[encoded data removed]",
      "text/plain": [
       "<Figure size 720x504 with 1 Axes>"
      ]
     },
     "metadata": {
      "needs_background": "light"
     },
     "output_type": "display_data"
    }
   ],
   "source": [
    "PSO_8D_best.min_value_vs_generation()"
   ]
  },
  {
   "cell_type": "code",
   "execution_count": 89,
   "id": "3c974ca7",
   "metadata": {},
   "outputs": [
    {
     "data": {
      "text/plain": [
       "ID                                                            6\n",
       "Elements                       [Pt, Pd, Au, Ru, Rh, Ir, Re, Os]\n",
       "Generation                                                   19\n",
       "Position      [0.348, 0.277, 0.253, 0.036, 0.001, 0.004, 0.0...\n",
       "Activity                                              -1.040493\n",
       "Name: 195, dtype: object"
      ]
     },
     "execution_count": 89,
     "metadata": {},
     "output_type": "execute_result"
    }
   ],
   "source": [
    "PSO_8D_best.g_best()"
   ]
  },
  {
   "cell_type": "code",
   "execution_count": 94,
   "id": "4fd4e3af",
   "metadata": {},
   "outputs": [
    {
     "data": {
      "text/plain": [
       "ID                                                            6\n",
       "Elements                       [Pt, Pd, Au, Ru, Rh, Ir, Re, Os]\n",
       "Generation                                                   19\n",
       "Position      [0.348, 0.277, 0.253, 0.036, 0.001, 0.004, 0.0...\n",
       "Activity                                              -1.040493\n",
       "Region                                                      431\n",
       "Visited                                                    True\n",
       "Name: 195, dtype: object"
      ]
     },
     "execution_count": 94,
     "metadata": {},
     "output_type": "execute_result"
    }
   ],
   "source": [
    "PSO_8D_grid.datalog.loc[PSO_8D_grid.datalog['Activity'].argmin()]"
   ]
  },
  {
   "cell_type": "code",
   "execution_count": 109,
   "id": "49a63d03",
   "metadata": {},
   "outputs": [
    {
     "data": {
      "text/html": [
       "<div>\n",
       "<style scoped>\n",
       "    .dataframe tbody tr th:only-of-type {\n",
       "        vertical-align: middle;\n",
       "    }\n",
       "\n",
       "    .dataframe tbody tr th {\n",
       "        vertical-align: top;\n",
       "    }\n",
       "\n",
       "    .dataframe thead th {\n",
       "        text-align: right;\n",
       "    }\n",
       "</style>\n",
       "<table border=\"1\" class=\"dataframe\">\n",
       "  <thead>\n",
       "    <tr style=\"text-align: right;\">\n",
       "      <th></th>\n",
       "      <th>Elements</th>\n",
       "      <th>Point</th>\n",
       "      <th>Region</th>\n",
       "      <th>Count</th>\n",
       "      <th>First visit</th>\n",
       "    </tr>\n",
       "  </thead>\n",
       "  <tbody>\n",
       "    <tr>\n",
       "      <th>349</th>\n",
       "      <td>[Pt, Pd, Au, Ru, Rh, Ir, Re, Os]</td>\n",
       "      <td>[0.225, 0.425, 0.225, 0.025, 0.025, 0.025, 0.0...</td>\n",
       "      <td>349</td>\n",
       "      <td>32</td>\n",
       "      <td>35.0</td>\n",
       "    </tr>\n",
       "    <tr>\n",
       "      <th>402</th>\n",
       "      <td>[Pt, Pd, Au, Ru, Rh, Ir, Re, Os]</td>\n",
       "      <td>[0.25, 0.25, 0.25, 0.05, 0.05, 0.05, 0.05, 0.05]</td>\n",
       "      <td>402</td>\n",
       "      <td>34</td>\n",
       "      <td>43.0</td>\n",
       "    </tr>\n",
       "    <tr>\n",
       "      <th>431</th>\n",
       "      <td>[Pt, Pd, Au, Ru, Rh, Ir, Re, Os]</td>\n",
       "      <td>[0.425, 0.225, 0.225, 0.025, 0.025, 0.025, 0.0...</td>\n",
       "      <td>431</td>\n",
       "      <td>11</td>\n",
       "      <td>144.0</td>\n",
       "    </tr>\n",
       "  </tbody>\n",
       "</table>\n",
       "</div>"
      ],
      "text/plain": [
       "                             Elements  \\\n",
       "349  [Pt, Pd, Au, Ru, Rh, Ir, Re, Os]   \n",
       "402  [Pt, Pd, Au, Ru, Rh, Ir, Re, Os]   \n",
       "431  [Pt, Pd, Au, Ru, Rh, Ir, Re, Os]   \n",
       "\n",
       "                                                 Point  Region  Count  \\\n",
       "349  [0.225, 0.425, 0.225, 0.025, 0.025, 0.025, 0.0...     349     32   \n",
       "402   [0.25, 0.25, 0.25, 0.05, 0.05, 0.05, 0.05, 0.05]     402     34   \n",
       "431  [0.425, 0.225, 0.225, 0.025, 0.025, 0.025, 0.0...     431     11   \n",
       "\n",
       "     First visit  \n",
       "349         35.0  \n",
       "402         43.0  \n",
       "431        144.0  "
      ]
     },
     "execution_count": 109,
     "metadata": {},
     "output_type": "execute_result"
    }
   ],
   "source": [
    "PSO_8D_grid.grid_table[PSO_8D_grid.grid_table['Count']>=10]"
   ]
  },
  {
   "cell_type": "code",
   "execution_count": null,
   "id": "aa74401c",
   "metadata": {},
   "outputs": [],
   "source": []
  }
 ],
 "metadata": {
  "kernelspec": {
   "display_name": "Python 3 (ipykernel)",
   "language": "python",
   "name": "python3"
  },
  "language_info": {
   "codemirror_mode": {
    "name": "ipython",
    "version": 3
   },
   "file_extension": ".py",
   "mimetype": "text/x-python",
   "name": "python",
   "nbconvert_exporter": "python",
   "pygments_lexer": "ipython3",
   "version": "3.9.12"
  }
 },
 "nbformat": 4,
 "nbformat_minor": 5
}
